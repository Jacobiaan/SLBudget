{
 "cells": [
  {
   "cell_type": "markdown",
   "metadata": {},
   "source": [
    "### Glaciers contribution to sea level\n",
    "\n",
    "Use fingerprints from Thomas.\n",
    "\n",
    "Contribution from Marzeiron et al. -> Not long enough\n",
    "\n",
    "Where is the Greenland periphery counted?\n",
    "\n",
    "New Nature paper might be better, check that out\n",
    "\n",
    "Contribution from missing and disapeared glaciers?\n"
   ]
  },
  {
   "cell_type": "code",
   "execution_count": 1,
   "metadata": {},
   "outputs": [],
   "source": [
    "import sys\n",
    "\n",
    "import numpy as np\n",
    "import pandas as pd\n",
    "import matplotlib.pyplot as plt\n",
    "import xarray as xr\n",
    "import importlib\n",
    "\n",
    "sys.path.append('../code/')\n",
    "import SeaLevelContrib as slc"
   ]
  },
  {
   "cell_type": "code",
   "execution_count": 15,
   "metadata": {},
   "outputs": [],
   "source": [
    "import matplotlib_inline.backend_inline\n",
    "matplotlib_inline.backend_inline.set_matplotlib_formats('retina')"
   ]
  },
  {
   "cell_type": "code",
   "execution_count": 2,
   "metadata": {},
   "outputs": [
    {
     "data": {
      "text/plain": [
       "<module 'SeaLevelContrib' from '/Users/dewilebars/Projects/SLBudget/notebooks/../code/SeaLevelContrib.py'>"
      ]
     },
     "execution_count": 2,
     "metadata": {},
     "output_type": "execute_result"
    }
   ],
   "source": [
    "importlib.reload(slc)"
   ]
  },
  {
   "cell_type": "code",
   "execution_count": 3,
   "metadata": {},
   "outputs": [],
   "source": [
    "PATH_SeaLevelBudgets = '/Users/dewilebars/Projects/SLBudget/data/'\n"
   ]
  },
  {
   "cell_type": "markdown",
   "metadata": {},
   "source": [
    "### Start with analysing Marzeion et al. 2015 data"
   ]
  },
  {
   "cell_type": "code",
   "execution_count": 4,
   "metadata": {},
   "outputs": [
    {
     "data": {
      "text/plain": [
       "time\n",
       "1902.0    0.000000\n",
       "1903.0    0.039455\n",
       "1904.0    0.088706\n",
       "1905.0    0.145229\n",
       "1906.0    0.190765\n",
       "            ...   \n",
       "2009.0    6.606247\n",
       "2010.0    6.675343\n",
       "2011.0    6.765918\n",
       "2012.0    6.840519\n",
       "2013.0    6.898485\n",
       "Name: Glaciers, Length: 112, dtype: float64"
      ]
     },
     "execution_count": 4,
     "metadata": {},
     "output_type": "execute_result"
    }
   ],
   "source": [
    "M15_glo_df = slc.glaciers_m15_glo()\n",
    "M15_glo_df.iloc[-10:]\n",
    "M15_glo_df.Glaciers"
   ]
  },
  {
   "cell_type": "markdown",
   "metadata": {},
   "source": [
    "### Regional sea level contribution and individual fingerprints for the Dutch coast"
   ]
  },
  {
   "cell_type": "code",
   "execution_count": 5,
   "metadata": {},
   "outputs": [
    {
     "data": {
      "text/html": [
       "<div>\n",
       "<style scoped>\n",
       "    .dataframe tbody tr th:only-of-type {\n",
       "        vertical-align: middle;\n",
       "    }\n",
       "\n",
       "    .dataframe tbody tr th {\n",
       "        vertical-align: top;\n",
       "    }\n",
       "\n",
       "    .dataframe thead th {\n",
       "        text-align: right;\n",
       "    }\n",
       "</style>\n",
       "<table border=\"1\" class=\"dataframe\">\n",
       "  <thead>\n",
       "    <tr style=\"text-align: right;\">\n",
       "      <th></th>\n",
       "      <th>RG1</th>\n",
       "      <th>RG2</th>\n",
       "      <th>RG3</th>\n",
       "      <th>RG4</th>\n",
       "      <th>RG5</th>\n",
       "      <th>RG6</th>\n",
       "      <th>RG7</th>\n",
       "      <th>RG8</th>\n",
       "      <th>RG9</th>\n",
       "      <th>RG10</th>\n",
       "      <th>RG11</th>\n",
       "      <th>RG12</th>\n",
       "      <th>RG13</th>\n",
       "      <th>RG14</th>\n",
       "      <th>RG15</th>\n",
       "      <th>RG16</th>\n",
       "      <th>RG17</th>\n",
       "      <th>RG18</th>\n",
       "      <th>Total</th>\n",
       "    </tr>\n",
       "    <tr>\n",
       "      <th>time</th>\n",
       "      <th></th>\n",
       "      <th></th>\n",
       "      <th></th>\n",
       "      <th></th>\n",
       "      <th></th>\n",
       "      <th></th>\n",
       "      <th></th>\n",
       "      <th></th>\n",
       "      <th></th>\n",
       "      <th></th>\n",
       "      <th></th>\n",
       "      <th></th>\n",
       "      <th></th>\n",
       "      <th></th>\n",
       "      <th></th>\n",
       "      <th></th>\n",
       "      <th></th>\n",
       "      <th></th>\n",
       "      <th></th>\n",
       "    </tr>\n",
       "  </thead>\n",
       "  <tbody>\n",
       "    <tr>\n",
       "      <th>2004.0</th>\n",
       "      <td>0.629947</td>\n",
       "      <td>0.261865</td>\n",
       "      <td>0.519602</td>\n",
       "      <td>0.379809</td>\n",
       "      <td>1.131811</td>\n",
       "      <td>0.081323</td>\n",
       "      <td>0.471019</td>\n",
       "      <td>0.018426</td>\n",
       "      <td>0.561836</td>\n",
       "      <td>0.020230</td>\n",
       "      <td>0.018229</td>\n",
       "      <td>0.002762</td>\n",
       "      <td>0.673714</td>\n",
       "      <td>0.595231</td>\n",
       "      <td>0.342240</td>\n",
       "      <td>0.242063</td>\n",
       "      <td>0.272247</td>\n",
       "      <td>0.051951</td>\n",
       "      <td>6.274306</td>\n",
       "    </tr>\n",
       "    <tr>\n",
       "      <th>2005.0</th>\n",
       "      <td>0.649180</td>\n",
       "      <td>0.263310</td>\n",
       "      <td>0.541083</td>\n",
       "      <td>0.377832</td>\n",
       "      <td>1.143896</td>\n",
       "      <td>0.081613</td>\n",
       "      <td>0.483362</td>\n",
       "      <td>0.018460</td>\n",
       "      <td>0.569229</td>\n",
       "      <td>0.020390</td>\n",
       "      <td>0.019151</td>\n",
       "      <td>0.002905</td>\n",
       "      <td>0.679690</td>\n",
       "      <td>0.598707</td>\n",
       "      <td>0.345419</td>\n",
       "      <td>0.242599</td>\n",
       "      <td>0.277077</td>\n",
       "      <td>0.051932</td>\n",
       "      <td>6.365836</td>\n",
       "    </tr>\n",
       "    <tr>\n",
       "      <th>2006.0</th>\n",
       "      <td>0.658914</td>\n",
       "      <td>0.266765</td>\n",
       "      <td>0.547396</td>\n",
       "      <td>0.373356</td>\n",
       "      <td>1.150659</td>\n",
       "      <td>0.083751</td>\n",
       "      <td>0.498619</td>\n",
       "      <td>0.019348</td>\n",
       "      <td>0.572336</td>\n",
       "      <td>0.020691</td>\n",
       "      <td>0.020044</td>\n",
       "      <td>0.003047</td>\n",
       "      <td>0.687325</td>\n",
       "      <td>0.603006</td>\n",
       "      <td>0.348643</td>\n",
       "      <td>0.242863</td>\n",
       "      <td>0.279279</td>\n",
       "      <td>0.052092</td>\n",
       "      <td>6.428136</td>\n",
       "    </tr>\n",
       "    <tr>\n",
       "      <th>2007.0</th>\n",
       "      <td>0.672234</td>\n",
       "      <td>0.266881</td>\n",
       "      <td>0.570809</td>\n",
       "      <td>0.368868</td>\n",
       "      <td>1.163125</td>\n",
       "      <td>0.085086</td>\n",
       "      <td>0.510224</td>\n",
       "      <td>0.019309</td>\n",
       "      <td>0.579653</td>\n",
       "      <td>0.020971</td>\n",
       "      <td>0.020587</td>\n",
       "      <td>0.003406</td>\n",
       "      <td>0.694289</td>\n",
       "      <td>0.607395</td>\n",
       "      <td>0.351531</td>\n",
       "      <td>0.243241</td>\n",
       "      <td>0.281439</td>\n",
       "      <td>0.052220</td>\n",
       "      <td>6.511270</td>\n",
       "    </tr>\n",
       "    <tr>\n",
       "      <th>2008.0</th>\n",
       "      <td>0.674646</td>\n",
       "      <td>0.267925</td>\n",
       "      <td>0.587146</td>\n",
       "      <td>0.364217</td>\n",
       "      <td>1.176909</td>\n",
       "      <td>0.088004</td>\n",
       "      <td>0.515446</td>\n",
       "      <td>0.019666</td>\n",
       "      <td>0.587006</td>\n",
       "      <td>0.021425</td>\n",
       "      <td>0.020911</td>\n",
       "      <td>0.003539</td>\n",
       "      <td>0.702875</td>\n",
       "      <td>0.612013</td>\n",
       "      <td>0.354086</td>\n",
       "      <td>0.243277</td>\n",
       "      <td>0.284290</td>\n",
       "      <td>0.052425</td>\n",
       "      <td>6.575804</td>\n",
       "    </tr>\n",
       "    <tr>\n",
       "      <th>2009.0</th>\n",
       "      <td>0.682632</td>\n",
       "      <td>0.270293</td>\n",
       "      <td>0.613289</td>\n",
       "      <td>0.362552</td>\n",
       "      <td>1.187368</td>\n",
       "      <td>0.089779</td>\n",
       "      <td>0.526238</td>\n",
       "      <td>0.020154</td>\n",
       "      <td>0.591586</td>\n",
       "      <td>0.021517</td>\n",
       "      <td>0.021767</td>\n",
       "      <td>0.003563</td>\n",
       "      <td>0.708211</td>\n",
       "      <td>0.615864</td>\n",
       "      <td>0.358246</td>\n",
       "      <td>0.243409</td>\n",
       "      <td>0.287018</td>\n",
       "      <td>0.052418</td>\n",
       "      <td>6.655905</td>\n",
       "    </tr>\n",
       "    <tr>\n",
       "      <th>2010.0</th>\n",
       "      <td>0.700600</td>\n",
       "      <td>0.270875</td>\n",
       "      <td>0.625236</td>\n",
       "      <td>0.359018</td>\n",
       "      <td>1.203500</td>\n",
       "      <td>0.093000</td>\n",
       "      <td>0.531761</td>\n",
       "      <td>0.020457</td>\n",
       "      <td>0.595382</td>\n",
       "      <td>0.021701</td>\n",
       "      <td>0.022037</td>\n",
       "      <td>0.004025</td>\n",
       "      <td>0.713452</td>\n",
       "      <td>0.618623</td>\n",
       "      <td>0.361868</td>\n",
       "      <td>0.243915</td>\n",
       "      <td>0.287113</td>\n",
       "      <td>0.052438</td>\n",
       "      <td>6.725002</td>\n",
       "    </tr>\n",
       "    <tr>\n",
       "      <th>2011.0</th>\n",
       "      <td>0.713084</td>\n",
       "      <td>0.271924</td>\n",
       "      <td>0.647600</td>\n",
       "      <td>0.356897</td>\n",
       "      <td>1.211718</td>\n",
       "      <td>0.094507</td>\n",
       "      <td>0.550327</td>\n",
       "      <td>0.021080</td>\n",
       "      <td>0.603571</td>\n",
       "      <td>0.022012</td>\n",
       "      <td>0.022777</td>\n",
       "      <td>0.004161</td>\n",
       "      <td>0.721646</td>\n",
       "      <td>0.623691</td>\n",
       "      <td>0.364716</td>\n",
       "      <td>0.243982</td>\n",
       "      <td>0.289320</td>\n",
       "      <td>0.052563</td>\n",
       "      <td>6.815576</td>\n",
       "    </tr>\n",
       "    <tr>\n",
       "      <th>2012.0</th>\n",
       "      <td>0.713043</td>\n",
       "      <td>0.273434</td>\n",
       "      <td>0.678282</td>\n",
       "      <td>0.353320</td>\n",
       "      <td>1.213185</td>\n",
       "      <td>0.095106</td>\n",
       "      <td>0.559543</td>\n",
       "      <td>0.020919</td>\n",
       "      <td>0.619544</td>\n",
       "      <td>0.022331</td>\n",
       "      <td>0.023539</td>\n",
       "      <td>0.004575</td>\n",
       "      <td>0.729291</td>\n",
       "      <td>0.627595</td>\n",
       "      <td>0.367859</td>\n",
       "      <td>0.244105</td>\n",
       "      <td>0.291728</td>\n",
       "      <td>0.052778</td>\n",
       "      <td>6.890178</td>\n",
       "    </tr>\n",
       "    <tr>\n",
       "      <th>2013.0</th>\n",
       "      <td>0.726003</td>\n",
       "      <td>0.276640</td>\n",
       "      <td>0.670121</td>\n",
       "      <td>0.346600</td>\n",
       "      <td>1.219012</td>\n",
       "      <td>0.095707</td>\n",
       "      <td>0.578994</td>\n",
       "      <td>0.021649</td>\n",
       "      <td>0.632194</td>\n",
       "      <td>0.022404</td>\n",
       "      <td>0.023825</td>\n",
       "      <td>0.004805</td>\n",
       "      <td>0.736201</td>\n",
       "      <td>0.632122</td>\n",
       "      <td>0.370222</td>\n",
       "      <td>0.244368</td>\n",
       "      <td>0.294350</td>\n",
       "      <td>0.052926</td>\n",
       "      <td>6.948143</td>\n",
       "    </tr>\n",
       "  </tbody>\n",
       "</table>\n",
       "</div>"
      ],
      "text/plain": [
       "             RG1       RG2       RG3       RG4       RG5       RG6       RG7  \\\n",
       "time                                                                           \n",
       "2004.0  0.629947  0.261865  0.519602  0.379809  1.131811  0.081323  0.471019   \n",
       "2005.0  0.649180  0.263310  0.541083  0.377832  1.143896  0.081613  0.483362   \n",
       "2006.0  0.658914  0.266765  0.547396  0.373356  1.150659  0.083751  0.498619   \n",
       "2007.0  0.672234  0.266881  0.570809  0.368868  1.163125  0.085086  0.510224   \n",
       "2008.0  0.674646  0.267925  0.587146  0.364217  1.176909  0.088004  0.515446   \n",
       "2009.0  0.682632  0.270293  0.613289  0.362552  1.187368  0.089779  0.526238   \n",
       "2010.0  0.700600  0.270875  0.625236  0.359018  1.203500  0.093000  0.531761   \n",
       "2011.0  0.713084  0.271924  0.647600  0.356897  1.211718  0.094507  0.550327   \n",
       "2012.0  0.713043  0.273434  0.678282  0.353320  1.213185  0.095106  0.559543   \n",
       "2013.0  0.726003  0.276640  0.670121  0.346600  1.219012  0.095707  0.578994   \n",
       "\n",
       "             RG8       RG9      RG10      RG11      RG12      RG13      RG14  \\\n",
       "time                                                                           \n",
       "2004.0  0.018426  0.561836  0.020230  0.018229  0.002762  0.673714  0.595231   \n",
       "2005.0  0.018460  0.569229  0.020390  0.019151  0.002905  0.679690  0.598707   \n",
       "2006.0  0.019348  0.572336  0.020691  0.020044  0.003047  0.687325  0.603006   \n",
       "2007.0  0.019309  0.579653  0.020971  0.020587  0.003406  0.694289  0.607395   \n",
       "2008.0  0.019666  0.587006  0.021425  0.020911  0.003539  0.702875  0.612013   \n",
       "2009.0  0.020154  0.591586  0.021517  0.021767  0.003563  0.708211  0.615864   \n",
       "2010.0  0.020457  0.595382  0.021701  0.022037  0.004025  0.713452  0.618623   \n",
       "2011.0  0.021080  0.603571  0.022012  0.022777  0.004161  0.721646  0.623691   \n",
       "2012.0  0.020919  0.619544  0.022331  0.023539  0.004575  0.729291  0.627595   \n",
       "2013.0  0.021649  0.632194  0.022404  0.023825  0.004805  0.736201  0.632122   \n",
       "\n",
       "            RG15      RG16      RG17      RG18     Total  \n",
       "time                                                      \n",
       "2004.0  0.342240  0.242063  0.272247  0.051951  6.274306  \n",
       "2005.0  0.345419  0.242599  0.277077  0.051932  6.365836  \n",
       "2006.0  0.348643  0.242863  0.279279  0.052092  6.428136  \n",
       "2007.0  0.351531  0.243241  0.281439  0.052220  6.511270  \n",
       "2008.0  0.354086  0.243277  0.284290  0.052425  6.575804  \n",
       "2009.0  0.358246  0.243409  0.287018  0.052418  6.655905  \n",
       "2010.0  0.361868  0.243915  0.287113  0.052438  6.725002  \n",
       "2011.0  0.364716  0.243982  0.289320  0.052563  6.815576  \n",
       "2012.0  0.367859  0.244105  0.291728  0.052778  6.890178  \n",
       "2013.0  0.370222  0.244368  0.294350  0.052926  6.948143  "
      ]
     },
     "execution_count": 5,
     "metadata": {},
     "output_type": "execute_result"
    }
   ],
   "source": [
    "M15_dir = (PATH_SeaLevelBudgets + \n",
    "           'Glaciers/Marzeion2015/tc-9-2399-2015-supplement/')\n",
    "RGl = []\n",
    "for i in range(1,19):\n",
    "    RGl.append('RG'+str(i))\n",
    "M15_reg_df = pd.read_csv(M15_dir + 'data_marzeion_etal_update_2015_regional.txt', header=None, \n",
    "                      names=['time'] + RGl, delim_whitespace=True)\n",
    "M15_reg_df = M15_reg_df.set_index('time')\n",
    "M15_reg_df = - M15_reg_df.cumsum() / 10 # Convert from mm to cm\n",
    "M15_reg_df['Total'] = M15_reg_df.sum(axis=1)\n",
    "M15_reg_df.iloc[-10:]"
   ]
  },
  {
   "cell_type": "code",
   "execution_count": 6,
   "metadata": {},
   "outputs": [
    {
     "name": "stdout",
     "output_type": "stream",
     "text": [
      "Opening RGI_1.nc for Alaska\n",
      "1.201348900794983\n",
      "Opening RGI_2.nc for Western Canada and US\n",
      "1.1479744911193848\n",
      "Opening RGI_3.nc for Arctic Canada North\n",
      "0.5816894173622131\n",
      "Opening RGI_4.nc for Arctic Canada South\n",
      "0.50312340259552\n",
      "Opening RGI_5.nc for Greenland Periphery\n",
      "0.11515027284622192\n",
      "Opening RGI_6.nc for Iceland\n",
      "-0.8709474205970764\n",
      "Opening RGI_7.nc for Svalbard\n",
      "0.0894579142332077\n",
      "Opening RGI_8.nc for Scandinavia\n",
      "-1.6684883832931519\n",
      "Opening RGI_9.nc for Russian Arctic\n",
      "0.43323642015457153\n",
      "Opening RGI_10.nc for North Asia\n",
      "0.968853771686554\n",
      "Opening RGI_11.nc for Central Europe\n",
      "-4.757112979888916\n",
      "Opening RGI_12.nc for Caucasus and Middle East\n",
      "-0.057304877787828445\n",
      "Opening RGI_13.nc for Central Asia\n",
      "0.7122862339019775\n",
      "Opening RGI_14.nc for South Asia West\n",
      "0.6808560490608215\n",
      "Opening RGI_15.nc for South Asia East\n",
      "0.8574588298797607\n",
      "Opening RGI_16.nc for Low Latitudes\n",
      "1.0500962734222412\n",
      "Opening RGI_17.nc for Southern Andes\n",
      "1.1723170280456543\n",
      "Opening RGI_18.nc for New Zealand\n",
      "0.8017910718917847\n",
      "Total in 2013: \n",
      "3.924952233065291\n",
      "Fraction of global: \n",
      "0.5689586093469514\n"
     ]
    }
   ],
   "source": [
    "# List of Randolph Glacier Inventory regions:\n",
    "RGI_r = ['Alaska', 'Western Canada and US', 'Arctic Canada North', \n",
    "         'Arctic Canada South', 'Greenland Periphery', 'Iceland', 'Svalbard', \n",
    "         'Scandinavia', 'Russian Arctic', 'North Asia', 'Central Europe', \n",
    "         'Caucasus and Middle East', 'Central Asia', 'South Asia West',\n",
    "         'South Asia East', 'Low Latitudes', 'Southern Andes', 'New Zealand', \n",
    "         'Antarctic and Subantarctic']\n",
    "\n",
    "tg_id = [22]\n",
    "RGI_loc = np.zeros(len(tg_id))\n",
    "fp_dir = f'{PATH_SeaLevelBudgets}fp_uniform/'\n",
    "M15_regloc_df = M15_reg_df.copy()\n",
    "\n",
    "for i in range(1,19):\n",
    "    filename = 'RGI_'+ str(i) +'.nc'\n",
    "    print('Opening ' + filename + ' for ' + RGI_r[i-1])\n",
    "    RGI = xr.open_dataset(fp_dir + filename)\n",
    "    for j in range(len(tg_id)):\n",
    "        tg_lat, tg_lon =  slc.tg_lat_lon(tg_id[j])\n",
    "        RGI_loc[j] = RGI.rsl.sel(x = tg_lon, y = tg_lat, method='nearest').values    \n",
    "    M15_regloc_df['RG' + str(i)] = M15_regloc_df['RG' + str(i)] * RGI_loc.mean()\n",
    "    print(RGI_loc.mean())\n",
    "M15_regloc_df['Total'] = 0\n",
    "M15_regloc_df['Total'] = M15_regloc_df.sum(axis=1)\n",
    "print('Total in 2013: ')\n",
    "print(M15_regloc_df.Total.iloc[-1])\n",
    "print('Fraction of global: ')\n",
    "print(M15_regloc_df.Total.iloc[-1] / M15_glo_df.Glaciers.iloc[-1])\n"
   ]
  },
  {
   "cell_type": "code",
   "execution_count": 10,
   "metadata": {},
   "outputs": [
    {
     "data": {
      "image/png": "[encoded data removed]",
      "text/plain": [
       "<Figure size 800x800 with 1 Axes>"
      ]
     },
     "metadata": {},
     "output_type": "display_data"
    }
   ],
   "source": [
    "gia_ts_df = slc.GIA_ICE6G(22) # 0, 22, 23, 24, 25, 32\n",
    "\n",
    "#Plot time series\n",
    "fig, ax = plt.subplots(figsize=(8,8))\n",
    "ax.plot(M15_glo_df.Glaciers, 'b-')\n",
    "ax.plot(M15_regloc_df)\n",
    "ax.plot(gia_ts_df, 'r-')\n",
    "#ax.set_aspect(1)\n",
    "plt.xlabel('time')\n",
    "plt.ylabel('cm sle')\n",
    "plt.title('Glaciers mass loss')\n",
    "ax.grid(True)\n"
   ]
  },
  {
   "cell_type": "markdown",
   "metadata": {},
   "source": [
    "### Time evolution of the regional fraction of global sea level contribution"
   ]
  },
  {
   "cell_type": "code",
   "execution_count": 11,
   "metadata": {},
   "outputs": [
    {
     "data": {
      "text/html": [
       "<div>\n",
       "<style scoped>\n",
       "    .dataframe tbody tr th:only-of-type {\n",
       "        vertical-align: middle;\n",
       "    }\n",
       "\n",
       "    .dataframe tbody tr th {\n",
       "        vertical-align: top;\n",
       "    }\n",
       "\n",
       "    .dataframe thead th {\n",
       "        text-align: right;\n",
       "    }\n",
       "</style>\n",
       "<table border=\"1\" class=\"dataframe\">\n",
       "  <thead>\n",
       "    <tr style=\"text-align: right;\">\n",
       "      <th></th>\n",
       "      <th>Glaciers</th>\n",
       "    </tr>\n",
       "    <tr>\n",
       "      <th>time</th>\n",
       "      <th></th>\n",
       "    </tr>\n",
       "  </thead>\n",
       "  <tbody>\n",
       "    <tr>\n",
       "      <th>2004.0</th>\n",
       "      <td>0.673027</td>\n",
       "    </tr>\n",
       "    <tr>\n",
       "      <th>2005.0</th>\n",
       "      <td>0.672666</td>\n",
       "    </tr>\n",
       "    <tr>\n",
       "      <th>2006.0</th>\n",
       "      <td>0.670627</td>\n",
       "    </tr>\n",
       "    <tr>\n",
       "      <th>2007.0</th>\n",
       "      <td>0.669569</td>\n",
       "    </tr>\n",
       "    <tr>\n",
       "      <th>2008.0</th>\n",
       "      <td>0.668028</td>\n",
       "    </tr>\n",
       "    <tr>\n",
       "      <th>2009.0</th>\n",
       "      <td>0.666215</td>\n",
       "    </tr>\n",
       "    <tr>\n",
       "      <th>2010.0</th>\n",
       "      <td>0.666073</td>\n",
       "    </tr>\n",
       "    <tr>\n",
       "      <th>2011.0</th>\n",
       "      <td>0.663824</td>\n",
       "    </tr>\n",
       "    <tr>\n",
       "      <th>2012.0</th>\n",
       "      <td>0.661580</td>\n",
       "    </tr>\n",
       "    <tr>\n",
       "      <th>2013.0</th>\n",
       "      <td>0.660586</td>\n",
       "    </tr>\n",
       "  </tbody>\n",
       "</table>\n",
       "</div>"
      ],
      "text/plain": [
       "        Glaciers\n",
       "time            \n",
       "2004.0  0.673027\n",
       "2005.0  0.672666\n",
       "2006.0  0.670627\n",
       "2007.0  0.669569\n",
       "2008.0  0.668028\n",
       "2009.0  0.666215\n",
       "2010.0  0.666073\n",
       "2011.0  0.663824\n",
       "2012.0  0.661580\n",
       "2013.0  0.660586"
      ]
     },
     "execution_count": 11,
     "metadata": {},
     "output_type": "execute_result"
    }
   ],
   "source": [
    "glac_ts_df = slc.glaciers_m15([22], extrap=False, del_green=True)\n",
    "glac_ts_glo_df = slc.glaciers_m15(None, extrap=False, del_green=True)\n",
    "frac_df = glac_ts_df/glac_ts_glo_df\n",
    "frac_df.iloc[-10:]"
   ]
  },
  {
   "cell_type": "markdown",
   "metadata": {},
   "source": [
    "### Analyse the Zemp et al. 2019 data"
   ]
  },
  {
   "cell_type": "code",
   "execution_count": 22,
   "metadata": {},
   "outputs": [
    {
     "data": {
      "text/plain": [
       "<matplotlib.legend.Legend at 0x18bf091f0>"
      ]
     },
     "execution_count": 22,
     "metadata": {},
     "output_type": "execute_result"
    },
    {
     "data": {
      "image/png": "[encoded data removed]",
      "text/plain": [
       "<Figure size 640x480 with 1 Axes>"
      ]
     },
     "metadata": {
      "image/png": {
       "height": 432,
       "width": 545
      }
     },
     "output_type": "display_data"
    }
   ],
   "source": [
    "M15_glo_df.Glaciers.plot(label=\"Marzeion\")\n",
    "\n",
    "zemp_glo_df = slc.glaciers_zemp19_glo().Glaciers\n",
    "zemp_glo_df = zemp_glo_df + M15_glo_df.Glaciers.loc[1979] - zemp_glo_df.loc[1979]\n",
    "zemp_glo_df.plot(label=\"Zemp\")\n",
    "\n",
    "plt.legend()"
   ]
  },
  {
   "cell_type": "markdown",
   "metadata": {},
   "source": [
    "Zemp et al. has less melt in the 1980th and more in the last 20 years compared to Marzeion et al. 2015.\n",
    "The Zemp data also provides a faster acceleration which seems in line with budget requierements."
   ]
  },
  {
   "cell_type": "code",
   "execution_count": 17,
   "metadata": {},
   "outputs": [
    {
     "data": {
      "text/plain": [
       "Glaciers    0.702433\n",
       "dtype: float64"
      ]
     },
     "execution_count": 17,
     "metadata": {},
     "output_type": "execute_result"
    }
   ],
   "source": [
    "# Compute the glacier contribution between 1986 and 2006 for sea level projections\n",
    "M15_glo_df.loc[2006]-M15_glo_df.loc[1995]"
   ]
  },
  {
   "cell_type": "code",
   "execution_count": 18,
   "metadata": {},
   "outputs": [
    {
     "data": {
      "text/plain": [
       "0.7883000000000004"
      ]
     },
     "execution_count": 18,
     "metadata": {},
     "output_type": "execute_result"
    }
   ],
   "source": [
    "zemp_glo_df.loc[2006]-zemp_glo_df.loc[1995]"
   ]
  },
  {
   "cell_type": "markdown",
   "metadata": {},
   "source": [
    "### Functions to compute global and regional sea level contribution from Zemp et al. 2019"
   ]
  },
  {
   "cell_type": "code",
   "execution_count": 19,
   "metadata": {},
   "outputs": [
    {
     "data": {
      "text/html": [
       "<div>\n",
       "<style scoped>\n",
       "    .dataframe tbody tr th:only-of-type {\n",
       "        vertical-align: middle;\n",
       "    }\n",
       "\n",
       "    .dataframe tbody tr th {\n",
       "        vertical-align: top;\n",
       "    }\n",
       "\n",
       "    .dataframe thead th {\n",
       "        text-align: right;\n",
       "    }\n",
       "</style>\n",
       "<table border=\"1\" class=\"dataframe\">\n",
       "  <thead>\n",
       "    <tr style=\"text-align: right;\">\n",
       "      <th></th>\n",
       "      <th>Glaciers</th>\n",
       "    </tr>\n",
       "    <tr>\n",
       "      <th>Year</th>\n",
       "      <th></th>\n",
       "    </tr>\n",
       "  </thead>\n",
       "  <tbody>\n",
       "    <tr>\n",
       "      <th>2007</th>\n",
       "      <td>1.8313</td>\n",
       "    </tr>\n",
       "    <tr>\n",
       "      <th>2008</th>\n",
       "      <td>1.8986</td>\n",
       "    </tr>\n",
       "    <tr>\n",
       "      <th>2009</th>\n",
       "      <td>1.9858</td>\n",
       "    </tr>\n",
       "    <tr>\n",
       "      <th>2010</th>\n",
       "      <td>2.0680</td>\n",
       "    </tr>\n",
       "    <tr>\n",
       "      <th>2011</th>\n",
       "      <td>2.1825</td>\n",
       "    </tr>\n",
       "    <tr>\n",
       "      <th>2012</th>\n",
       "      <td>2.2664</td>\n",
       "    </tr>\n",
       "    <tr>\n",
       "      <th>2013</th>\n",
       "      <td>2.3643</td>\n",
       "    </tr>\n",
       "    <tr>\n",
       "      <th>2014</th>\n",
       "      <td>2.4443</td>\n",
       "    </tr>\n",
       "    <tr>\n",
       "      <th>2015</th>\n",
       "      <td>2.5538</td>\n",
       "    </tr>\n",
       "    <tr>\n",
       "      <th>2016</th>\n",
       "      <td>2.6641</td>\n",
       "    </tr>\n",
       "  </tbody>\n",
       "</table>\n",
       "</div>"
      ],
      "text/plain": [
       "      Glaciers\n",
       "Year          \n",
       "2007    1.8313\n",
       "2008    1.8986\n",
       "2009    1.9858\n",
       "2010    2.0680\n",
       "2011    2.1825\n",
       "2012    2.2664\n",
       "2013    2.3643\n",
       "2014    2.4443\n",
       "2015    2.5538\n",
       "2016    2.6641"
      ]
     },
     "execution_count": 19,
     "metadata": {},
     "output_type": "execute_result"
    }
   ],
   "source": [
    "zemp_glo_df = slc.glaciers_zemp19_glo()\n",
    "zemp_glo_df.iloc[-10:]"
   ]
  },
  {
   "cell_type": "code",
   "execution_count": null,
   "metadata": {},
   "outputs": [],
   "source": [
    "zemp_df = slc.glaciers_zemp19(None)\n",
    "zemp_df.iloc[-10:]"
   ]
  },
  {
   "cell_type": "code",
   "execution_count": null,
   "metadata": {},
   "outputs": [],
   "source": [
    "zemp_glo_df.rename(columns={'Glaciers': 'Gla Zemp glo'}, inplace=True)\n",
    "\n",
    "zemp_comp_df = pd.merge(zemp_glo_df, zemp_df, how='inner', on='Year')\n",
    "zemp_comp_df = zemp_comp_df - zemp_comp_df.loc[1962]\n",
    "#comp = comp - comp.loc[1962]\n",
    "zemp_comp_df.plot()\n"
   ]
  },
  {
   "cell_type": "markdown",
   "metadata": {},
   "source": [
    "The sum of individual glacier contribution is not exactly the same as the global. This tiny difference seems arise from the fact that Zemp et al. 2019 use conversion factor slightly different from the one we use here (360Gt for 1 mm sea level)."
   ]
  },
  {
   "cell_type": "code",
   "execution_count": null,
   "metadata": {},
   "outputs": [],
   "source": [
    "zemp_glo_df = slc.glaciers_zemp19(None, del_green=True)\n",
    "zemp_loc_df = slc.glaciers_zemp19([22], del_green=True)\n",
    "(zemp_loc_df/zemp_glo_df).iloc[-10:]"
   ]
  },
  {
   "cell_type": "markdown",
   "metadata": {},
   "source": [
    "The fingerprint for the Dutch coast is also a little larger from Zemp et al. 2019 than for Marzeion et al. 2015 (0.79 and 0.66). Even using the same regional fingerprints from Thomas Frederikse so the difference comes from a larger contribution from glaciers further away from the Dutch coast."
   ]
  },
  {
   "cell_type": "markdown",
   "metadata": {},
   "source": [
    "### Now compare Marzeion et al. 2015 and Zemp et al. 2019 for the Dutch coast"
   ]
  },
  {
   "cell_type": "code",
   "execution_count": null,
   "metadata": {},
   "outputs": [],
   "source": [
    "zemp_loc_df = slc.glaciers_zemp19([22], del_green=True)\n",
    "zemp_loc_df.rename(columns={'Glaciers': 'Glaciers Zemp'}, inplace=True)\n",
    "m15_loc_df = slc.glaciers_m15([22], del_green=True)\n",
    "m15_loc_df.rename(columns={'Glaciers': 'Glaciers Mar'}, inplace=True)\n",
    "\n",
    "#comp_df = pd.merge(zemp_loc_df, zemp_df, how='inner', on='Year')\n",
    "comp_df = zemp_loc_df.join(m15_loc_df, how='inner')\n",
    "comp_df = comp_df - comp_df.loc[1962]\n",
    "#zemp_loc_df.plot()\n",
    "#m15_loc_df.plot()\n",
    "comp_df.plot()"
   ]
  },
  {
   "cell_type": "code",
   "execution_count": null,
   "metadata": {},
   "outputs": [],
   "source": [
    "m15_loc_df"
   ]
  },
  {
   "cell_type": "code",
   "execution_count": null,
   "metadata": {},
   "outputs": [],
   "source": []
  }
 ],
 "metadata": {
  "kernelspec": {
   "display_name": "Python 3 (ipykernel)",
   "language": "python",
   "name": "python3"
  },
  "language_info": {
   "codemirror_mode": {
    "name": "ipython",
    "version": 3
   },
   "file_extension": ".py",
   "mimetype": "text/x-python",
   "name": "python",
   "nbconvert_exporter": "python",
   "pygments_lexer": "ipython3",
   "version": "3.9.13"
  }
 },
 "nbformat": 4,
 "nbformat_minor": 4
}
