{
 "cells": [
  {
   "cell_type": "markdown",
   "metadata": {},
   "source": [
    "# GIA comparison\n",
    "### ICE6G and Simon et al. 2018\n",
    "Build a function that takes lat/lon or tide gauge name as input and provides GIA at that location"
   ]
  },
  {
   "cell_type": "code",
   "execution_count": 1,
   "metadata": {},
   "outputs": [],
   "source": [
    "import numpy as np\n",
    "import pandas as pd"
   ]
  },
  {
   "cell_type": "code",
   "execution_count": 2,
   "metadata": {},
   "outputs": [],
   "source": [
    "# Sart with reading ICE6G. The text file is very anoying because columns are separated by space\n",
    "# but there are also spaces in the names of the locations.\n",
    "dir_ICE6G = \"/Users/dewi/Work/Project_SeaLevelBudgets/GIA/ICE6G/\"\n",
    "ICE6G_ds  = pd.read_table(dir_ICE6G + \"drsl.PSMSL.ICE6G_C_VM5a_O512.txt\", header=5)"
   ]
  },
  {
   "cell_type": "code",
   "execution_count": 3,
   "metadata": {},
   "outputs": [
    {
     "data": {
      "text/plain": [
       "0.36833333333333335"
      ]
     },
     "execution_count": 3,
     "metadata": {},
     "output_type": "execute_result"
    }
   ],
   "source": [
    "# First lists have to be read\n",
    "lat = []\n",
    "lon = []\n",
    "locat = []\n",
    "gia = []\n",
    "name_tg = []\n",
    "with open (dir_ICE6G + \"drsl.PSMSL.ICE6G_C_VM5a_O512.txt\", \"r\") as myfile:\n",
    "    data = myfile.readlines()\n",
    "for i in range(7,len(data)):\n",
    "    line = data[i].split()\n",
    "    lat.append(line[0])\n",
    "    lon.append(line[1])\n",
    "    locat.append(line[2])\n",
    "    gia.append(line[-1])\n",
    "    name_tg.append(line[4])\n",
    "    \n",
    "# Now build a pandas dataframe from these lists\n",
    "gia_list = [(\"Lat\", lat),\n",
    "            (\"Lon\", lon),\n",
    "            (\"Location\", locat),\n",
    "            (\"Name\", name_tg),\n",
    "            (\"GIA\", gia)]\n",
    "gia_df = pd.DataFrame.from_dict(dict(gia_list))\n",
    "gia_df.Location = gia_df.Location.astype(int)\n",
    "gia_df.Lon = gia_df.Lon.astype(float)\n",
    "gia_df.Lat = gia_df.Lat.astype(float)\n",
    "gia_df.GIA = gia_df.GIA.astype(float)\n",
    "gia_df = gia_df.set_index(\"Location\")\n",
    "gia_df = gia_df.sort_index()\n",
    "\n",
    "tg_id=[20, 22, 23, 24, 25, 32]\n",
    "gia_avg = (gia_df.loc[tg_id]).GIA.mean()\n",
    "gia_avg"
   ]
  },
  {
   "cell_type": "code",
   "execution_count": 4,
   "metadata": {},
   "outputs": [
    {
     "data": {
      "text/html": [
       "<div>\n",
       "<style scoped>\n",
       "    .dataframe tbody tr th:only-of-type {\n",
       "        vertical-align: middle;\n",
       "    }\n",
       "\n",
       "    .dataframe tbody tr th {\n",
       "        vertical-align: top;\n",
       "    }\n",
       "\n",
       "    .dataframe thead th {\n",
       "        text-align: right;\n",
       "    }\n",
       "</style>\n",
       "<table border=\"1\" class=\"dataframe\">\n",
       "  <thead>\n",
       "    <tr style=\"text-align: right;\">\n",
       "      <th></th>\n",
       "      <th>GIA</th>\n",
       "    </tr>\n",
       "    <tr>\n",
       "      <th>time</th>\n",
       "      <th></th>\n",
       "    </tr>\n",
       "  </thead>\n",
       "  <tbody>\n",
       "    <tr>\n",
       "      <th>2010</th>\n",
       "      <td>40.516667</td>\n",
       "    </tr>\n",
       "    <tr>\n",
       "      <th>2011</th>\n",
       "      <td>40.885000</td>\n",
       "    </tr>\n",
       "    <tr>\n",
       "      <th>2012</th>\n",
       "      <td>41.253333</td>\n",
       "    </tr>\n",
       "    <tr>\n",
       "      <th>2013</th>\n",
       "      <td>41.621667</td>\n",
       "    </tr>\n",
       "    <tr>\n",
       "      <th>2014</th>\n",
       "      <td>41.990000</td>\n",
       "    </tr>\n",
       "    <tr>\n",
       "      <th>2015</th>\n",
       "      <td>42.358333</td>\n",
       "    </tr>\n",
       "    <tr>\n",
       "      <th>2016</th>\n",
       "      <td>42.726667</td>\n",
       "    </tr>\n",
       "    <tr>\n",
       "      <th>2017</th>\n",
       "      <td>43.095000</td>\n",
       "    </tr>\n",
       "    <tr>\n",
       "      <th>2018</th>\n",
       "      <td>43.463333</td>\n",
       "    </tr>\n",
       "    <tr>\n",
       "      <th>2019</th>\n",
       "      <td>43.831667</td>\n",
       "    </tr>\n",
       "  </tbody>\n",
       "</table>\n",
       "</div>"
      ],
      "text/plain": [
       "            GIA\n",
       "time           \n",
       "2010  40.516667\n",
       "2011  40.885000\n",
       "2012  41.253333\n",
       "2013  41.621667\n",
       "2014  41.990000\n",
       "2015  42.358333\n",
       "2016  42.726667\n",
       "2017  43.095000\n",
       "2018  43.463333\n",
       "2019  43.831667"
      ]
     },
     "execution_count": 4,
     "metadata": {},
     "output_type": "execute_result"
    }
   ],
   "source": [
    "time = np.arange(1900, 2020)\n",
    "gia_ts = gia_avg * (time - time[0])\n",
    "gia_ts_list = [(\"time\", time),\n",
    "              (\"GIA\", gia_ts)]\n",
    "gia_ts_df = pd.DataFrame.from_dict(dict(gia_ts_list))\n",
    "gia_ts_df = gia_ts_df.set_index(\"time\")\n",
    "gia_ts_df[-10:]"
   ]
  },
  {
   "cell_type": "code",
   "execution_count": null,
   "metadata": {},
   "outputs": [],
   "source": []
  },
  {
   "cell_type": "code",
   "execution_count": null,
   "metadata": {},
   "outputs": [],
   "source": []
  }
 ],
 "metadata": {
  "kernelspec": {
   "display_name": "Python 3",
   "language": "python",
   "name": "python3"
  },
  "language_info": {
   "codemirror_mode": {
    "name": "ipython",
    "version": 3
   },
   "file_extension": ".py",
   "mimetype": "text/x-python",
   "name": "python",
   "nbconvert_exporter": "python",
   "pygments_lexer": "ipython3",
   "version": "3.6.8"
  }
 },
 "nbformat": 4,
 "nbformat_minor": 2
}
